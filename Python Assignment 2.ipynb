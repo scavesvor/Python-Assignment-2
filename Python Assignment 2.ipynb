{
 "cells": [
  {
   "cell_type": "code",
   "execution_count": 36,
   "metadata": {},
   "outputs": [
    {
     "data": {
      "text/plain": [
       "'C:\\\\Users\\\\IR3DYME\\\\Downloads'"
      ]
     },
     "execution_count": 36,
     "metadata": {},
     "output_type": "execute_result"
    }
   ],
   "source": [
    "pwd"
   ]
  },
  {
   "cell_type": "code",
   "execution_count": 22,
   "metadata": {},
   "outputs": [
    {
     "data": {
      "text/plain": [
       "6"
      ]
     },
     "execution_count": 22,
     "metadata": {},
     "output_type": "execute_result"
    }
   ],
   "source": [
    "\"\"\" Write a Python Program to implement your own myreduce() function which works exactly like\n",
    "Python's built-in function reduce() \"\"\"\n",
    "\n",
    "def myreduce(function, seq):\n",
    "    result = seq[0]\n",
    "    for item in seq[1:]:\n",
    "        result = function(result, item)\n",
    "    return result\n",
    "\n",
    "def sum(x, y):\n",
    "    return x+y\n",
    "myreduce(sum, [1,2,3])"
   ]
  },
  {
   "cell_type": "code",
   "execution_count": 17,
   "metadata": {},
   "outputs": [
    {
     "name": "stdout",
     "output_type": "stream",
     "text": [
      "[3, 5, 7, 9, 11, 13, 15, 17, 19]\n"
     ]
    }
   ],
   "source": [
    "\"\"\" Write a Python program to implement your own myfilter() function which works exactly like\n",
    "Python's built-in function filter() \"\"\"\n",
    "\n",
    "def myfilter(is_odd, mylist):\n",
    "        \n",
    "    for i in mylist:\n",
    "        if i**2 % 2 == 1:\n",
    "            is_odd.append(i)\n",
    "is_odd = []            \n",
    "mylist = [2,3,4,5,6,7,8,9,10,11,12,13,14,15,16,17,18,19,20]\n",
    "myfilter(is_odd, mylist)\n",
    "print(is_odd)"
   ]
  },
  {
   "cell_type": "code",
   "execution_count": 31,
   "metadata": {},
   "outputs": [
    {
     "data": {
      "text/plain": [
       "['A', 'C', 'A', 'D', 'G', 'I', 'L', 'D']"
      ]
     },
     "execution_count": 31,
     "metadata": {},
     "output_type": "execute_result"
    }
   ],
   "source": [
    "\"\"\" Implement List comprehensions to produce the following lists.\n",
    "Write List comprehensions to produce the following List\n",
    "'A', 'C', 'A', 'D', 'G', 'I', ’L’, ‘ D’] \"\"\"\n",
    "\n",
    "\n",
    "g = 'ACADGILD'\n",
    "list = [alpha for alpha in g]\n",
    "list"
   ]
  },
  {
   "cell_type": "code",
   "execution_count": 30,
   "metadata": {},
   "outputs": [
    {
     "data": {
      "text/plain": [
       "['x', 'xx', 'xxx', 'xxxx', 'y', 'yy', 'yyy', 'yyyy', 'z', 'zz', 'zzz', 'zzzz']"
      ]
     },
     "execution_count": 30,
     "metadata": {},
     "output_type": "execute_result"
    }
   ],
   "source": [
    "\"\"\" Implement List comprehensions to produce the following lists.\n",
    "Write List comprehensions to produce the following List\n",
    "['x', 'xx', 'xxx', 'xxxx', 'y', 'yy', 'yyy', 'yyyy', 'z', 'zz', 'zzz', 'zzzz'] \"\"\"\n",
    "\n",
    "\n",
    "g = ['x','y','z']\n",
    "list = [i*n for i in g for n in range(1,5)]\n",
    "list"
   ]
  },
  {
   "cell_type": "code",
   "execution_count": 32,
   "metadata": {},
   "outputs": [
    {
     "data": {
      "text/plain": [
       "['x', 'y', 'z', 'xx', 'yy', 'zz', 'xxx', 'yyy', 'zzz', 'xxxx', 'yyyy', 'zzzz']"
      ]
     },
     "execution_count": 32,
     "metadata": {},
     "output_type": "execute_result"
    }
   ],
   "source": [
    "\"\"\" Implement List comprehensions to produce the following lists.\n",
    "Write List comprehensions to produce the following List\n",
    "['x', 'y', 'z', 'xx', 'yy', 'zz', 'xx', 'yy', 'zz', 'xxxx', 'yyyy', 'zzzz'] \"\"\"\n",
    "\n",
    "\n",
    "g = ['x','y','z']\n",
    "list = [i*n for n in range(1,5) for i in g]\n",
    "list"
   ]
  },
  {
   "cell_type": "code",
   "execution_count": 33,
   "metadata": {},
   "outputs": [
    {
     "data": {
      "text/plain": [
       "[[2], [3], [4], [3], [4], [5], [4], [5], [6]]"
      ]
     },
     "execution_count": 33,
     "metadata": {},
     "output_type": "execute_result"
    }
   ],
   "source": [
    "\"\"\" Implement List comprehensions to produce the following lists.\n",
    "Write List comprehensions to produce the following List\n",
    "[[2], [3], [4], [3], [4], [5], [4], [5], [6]] \"\"\"\n",
    "\n",
    "\n",
    "g = [2,3,4] \n",
    "list = [[i+n] for i in g for n in range(0,3)]\n",
    "list"
   ]
  },
  {
   "cell_type": "code",
   "execution_count": 34,
   "metadata": {},
   "outputs": [
    {
     "data": {
      "text/plain": [
       "[[2, 3, 4, 5], [3, 4, 5, 6], [4, 5, 6, 7], [5, 6, 7, 8]]"
      ]
     },
     "execution_count": 34,
     "metadata": {},
     "output_type": "execute_result"
    }
   ],
   "source": [
    "\"\"\" Implement List comprehensions to produce the following lists.\n",
    "Write List comprehensions to produce the following List\n",
    "[[2, 3, 4, 5], [3, 4, 5, 6], [4, 5, 6, 7], [5, 6, 7, 8]] \"\"\"\n",
    "\n",
    "\n",
    "g = [2,3,4,5]\n",
    "list = [[i+n for i in g] for n in range(0,4)]\n",
    "list"
   ]
  },
  {
   "cell_type": "code",
   "execution_count": 35,
   "metadata": {},
   "outputs": [
    {
     "data": {
      "text/plain": [
       "[(1, 1), (2, 1), (3, 1), (1, 2), (2, 2), (3, 2), (1, 3), (2, 3), (3, 3)]"
      ]
     },
     "execution_count": 35,
     "metadata": {},
     "output_type": "execute_result"
    }
   ],
   "source": [
    "\"\"\" Implement List comprehensions to produce the following lists.\n",
    "Write List comprehensions to produce the following List\n",
    "[(1, 1), (2, 1), (3, 1), (1, 2), (2, 2), (3, 2), (1, 3), (2, 3), (3, 3)] \"\"\"\n",
    "\n",
    "\n",
    "g = [1,2,3]\n",
    "list = [(a,b) for b in g for a in g]\n",
    "list"
   ]
  },
  {
   "cell_type": "code",
   "execution_count": 44,
   "metadata": {},
   "outputs": [
    {
     "name": "stdout",
     "output_type": "stream",
     "text": [
      "blackberry\n"
     ]
    }
   ],
   "source": [
    "#  mplement a function longestWord() that takes a list of words and returns the longest one.\n",
    "\n",
    "comp = ['apple', 'blackberry', 'windows', 'android']\n",
    "for w in comp:\n",
    "    if len(w) > 8:\n",
    "        print(w)"
   ]
  },
  {
   "cell_type": "code",
   "execution_count": 21,
   "metadata": {},
   "outputs": [
    {
     "name": "stdout",
     "output_type": "stream",
     "text": [
      "Enter a : 2.3\n",
      "Enter b : 4.5\n",
      "Enter c : 6.0\n"
     ]
    },
    {
     "data": {
      "text/plain": [
       "4.47"
      ]
     },
     "execution_count": 21,
     "metadata": {},
     "output_type": "execute_result"
    }
   ],
   "source": [
    "\"\"\" Write a Python Program(with class concepts) to find the area of the triangle using the below\n",
    "formula.\n",
    "area = (s*(s-a)*(s-b)*(s-c)) ** 0.5\n",
    "Function to take the length of the sides of triangle from user should be defined in the parent\n",
    "class and function to calculate the area should be defined in subclass. \"\"\"\n",
    "\n",
    "\n",
    "a = input(\"Enter a : \")\n",
    "b = input(\"Enter b : \")\n",
    "c = input(\"Enter c : \")\n",
    "class triangle_area():\n",
    "    def __init__(self,a,b,c):\n",
    "        self.a = float(a)\n",
    "        self.b = float(b)\n",
    "        self.c = float(c)\n",
    "    def area(self):\n",
    "        s=(self.a+self.b+self.c)/2\n",
    "        return (s*(s-self.a)*(s-self.b)*(s-self.c)) ** 0.5\n",
    "        \n",
    "t = triangle_area(a, b, c)\n",
    "round(t.area(),2)"
   ]
  },
  {
   "cell_type": "code",
   "execution_count": 43,
   "metadata": {},
   "outputs": [
    {
     "data": {
      "text/plain": [
       "['carbondioxide', 'phenylhydroxide', 'methoxymethane']"
      ]
     },
     "execution_count": 43,
     "metadata": {},
     "output_type": "execute_result"
    }
   ],
   "source": [
    "\"\"\" Write a function filter_long_words() that takes a list of words and an integer n and returns the list\n",
    "of words that are longer than n. \"\"\"\n",
    "\n",
    "matter = ['carbondioxide', 'phenylhydroxide', 'methoxymethane', 'apocalypto', 'aggravate']\n",
    "def list_of_words(n):\n",
    "        if len(n) > 10:\n",
    "            return True\n",
    "list(filter(list_of_words, matter))"
   ]
  },
  {
   "cell_type": "code",
   "execution_count": 20,
   "metadata": {},
   "outputs": [
    {
     "data": {
      "text/plain": [
       "[10, 6, 8, 4]"
      ]
     },
     "execution_count": 20,
     "metadata": {},
     "output_type": "execute_result"
    }
   ],
   "source": [
    "\"\"\" Write a Python program using function concept that maps list of words into a list of integers\n",
    "representing the lengths of the corresponding words.\n",
    "Hint: If a list [ ab,cde,erty] is passed on to the python function output should come as [2,3,4]\n",
    "Here 2,3 and 4 are the lengths of the words in the list. \"\"\"\n",
    "\n",
    "def mufc(a):\n",
    "    ggmu=[]\n",
    "    for i in range(len(a)):\n",
    "        ggmu.append(len(a[i]))\n",
    "    return ggmu\n",
    "\n",
    "mufc(['Manchester','United','Football','Club'])"
   ]
  },
  {
   "cell_type": "code",
   "execution_count": 17,
   "metadata": {},
   "outputs": [
    {
     "name": "stdout",
     "output_type": "stream",
     "text": [
      "True\n",
      "False\n",
      "False\n"
     ]
    }
   ],
   "source": [
    "\"\"\" Write a Python function which takes a character (i.e. a string of length 1) and returns True if it is\n",
    "a vowel, False otherwise \"\"\"\n",
    "\n",
    "def isvowel(u):\n",
    "    for x in u:\n",
    "        if x == vowels[0]:\n",
    "            print(\"True\")\n",
    "        elif x == vowels[1]:\n",
    "            print(\"True\")\n",
    "        elif x == vowels[2]:\n",
    "            print(\"True\")\n",
    "        elif x == vowels[3]:\n",
    "            print(\"True\")\n",
    "        elif x == vowels[4]:\n",
    "            print(\"True\")\n",
    "        else:\n",
    "            print(\"False\")\n",
    "            \n",
    "vowels = ['a','e','i','o','u']\n",
    "isvowel(\"a\")\n",
    "isvowel(\"b\")\n",
    "isvowel(\"c\")\n"
   ]
  }
 ],
 "metadata": {
  "kernelspec": {
   "display_name": "Python 3",
   "language": "python",
   "name": "python3"
  },
  "language_info": {
   "codemirror_mode": {
    "name": "ipython",
    "version": 3
   },
   "file_extension": ".py",
   "mimetype": "text/x-python",
   "name": "python",
   "nbconvert_exporter": "python",
   "pygments_lexer": "ipython3",
   "version": "3.8.2"
  }
 },
 "nbformat": 4,
 "nbformat_minor": 4
}
